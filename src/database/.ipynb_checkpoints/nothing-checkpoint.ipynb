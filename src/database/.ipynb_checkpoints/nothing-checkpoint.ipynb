{
 "cells": [
  {
   "cell_type": "code",
   "execution_count": 7,
   "metadata": {},
   "outputs": [
    {
     "name": "stdout",
     "output_type": "stream",
     "text": [
      "INSERT INTO \"public\".\"Hour\" (\"hour_id\", \"hour_name\") VALUES ('0', '0');\n",
      "INSERT INTO \"public\".\"Hour\" (\"hour_id\", \"hour_name\") VALUES ('1', '1');\n",
      "INSERT INTO \"public\".\"Hour\" (\"hour_id\", \"hour_name\") VALUES ('2', '2');\n",
      "INSERT INTO \"public\".\"Hour\" (\"hour_id\", \"hour_name\") VALUES ('3', '3');\n",
      "INSERT INTO \"public\".\"Hour\" (\"hour_id\", \"hour_name\") VALUES ('4', '4');\n",
      "INSERT INTO \"public\".\"Hour\" (\"hour_id\", \"hour_name\") VALUES ('5', '5');\n",
      "INSERT INTO \"public\".\"Hour\" (\"hour_id\", \"hour_name\") VALUES ('6', '6');\n",
      "INSERT INTO \"public\".\"Hour\" (\"hour_id\", \"hour_name\") VALUES ('7', '7');\n",
      "INSERT INTO \"public\".\"Hour\" (\"hour_id\", \"hour_name\") VALUES ('8', '8');\n",
      "INSERT INTO \"public\".\"Hour\" (\"hour_id\", \"hour_name\") VALUES ('9', '9');\n",
      "INSERT INTO \"public\".\"Hour\" (\"hour_id\", \"hour_name\") VALUES ('10', '10');\n",
      "INSERT INTO \"public\".\"Hour\" (\"hour_id\", \"hour_name\") VALUES ('11', '11');\n",
      "INSERT INTO \"public\".\"Hour\" (\"hour_id\", \"hour_name\") VALUES ('12', '12');\n",
      "INSERT INTO \"public\".\"Hour\" (\"hour_id\", \"hour_name\") VALUES ('13', '13');\n",
      "INSERT INTO \"public\".\"Hour\" (\"hour_id\", \"hour_name\") VALUES ('14', '14');\n",
      "INSERT INTO \"public\".\"Hour\" (\"hour_id\", \"hour_name\") VALUES ('15', '15');\n",
      "INSERT INTO \"public\".\"Hour\" (\"hour_id\", \"hour_name\") VALUES ('16', '16');\n",
      "INSERT INTO \"public\".\"Hour\" (\"hour_id\", \"hour_name\") VALUES ('17', '17');\n",
      "INSERT INTO \"public\".\"Hour\" (\"hour_id\", \"hour_name\") VALUES ('18', '18');\n",
      "INSERT INTO \"public\".\"Hour\" (\"hour_id\", \"hour_name\") VALUES ('19', '19');\n",
      "INSERT INTO \"public\".\"Hour\" (\"hour_id\", \"hour_name\") VALUES ('20', '20');\n",
      "INSERT INTO \"public\".\"Hour\" (\"hour_id\", \"hour_name\") VALUES ('21', '21');\n",
      "INSERT INTO \"public\".\"Hour\" (\"hour_id\", \"hour_name\") VALUES ('22', '22');\n",
      "INSERT INTO \"public\".\"Hour\" (\"hour_id\", \"hour_name\") VALUES ('23', '23');\n",
      "INSERT INTO \"public\".\"Hour\" (\"hour_id\", \"hour_name\") VALUES ('24', '24');\n"
     ]
    }
   ],
   "source": [
    "for i in range(25):\n",
    "    print(\"\"\"INSERT INTO \"public\".\"Hour\" (\"hour_id\", \"hour_name\") VALUES ('\"\"\"\n",
    "          +str(i)+\n",
    "          \"\"\"', '\"\"\"\n",
    "          +str(i)+\n",
    "          \"\"\"');\"\"\")\n",
    "    "
   ]
  },
  {
   "cell_type": "code",
   "execution_count": null,
   "metadata": {},
   "outputs": [],
   "source": [
    "INSERT INTO \"public\".\"Language\" (\"language_id\", \"language_name\") VALUES ('4', 'Malay');"
   ]
  },
  {
   "cell_type": "code",
   "execution_count": 15,
   "metadata": {},
   "outputs": [
    {
     "name": "stdout",
     "output_type": "stream",
     "text": [
      "INSERT INTO \"public\".\"Language\" (\"language_id\", \"language_name\") VALUES ('1', 'English');\n",
      "INSERT INTO \"public\".\"Language\" (\"language_id\", \"language_name\") VALUES ('2', 'Mandarin');\n",
      "INSERT INTO \"public\".\"Language\" (\"language_id\", \"language_name\") VALUES ('3', 'Hindi');\n",
      "INSERT INTO \"public\".\"Language\" (\"language_id\", \"language_name\") VALUES ('4', 'Spanish');\n",
      "INSERT INTO \"public\".\"Language\" (\"language_id\", \"language_name\") VALUES ('5', 'French');\n",
      "INSERT INTO \"public\".\"Language\" (\"language_id\", \"language_name\") VALUES ('6', 'German');\n",
      "INSERT INTO \"public\".\"Language\" (\"language_id\", \"language_name\") VALUES ('7', 'Arabic');\n",
      "INSERT INTO \"public\".\"Language\" (\"language_id\", \"language_name\") VALUES ('8', 'Russian');\n",
      "INSERT INTO \"public\".\"Language\" (\"language_id\", \"language_name\") VALUES ('9', 'Portuguese');\n"
     ]
    }
   ],
   "source": [
    "a = [\"English\",\"Mandarin\",\"Hindi\",\"Spanish\",\"French\",\"German\",\"Arabic\",\"Russian\",\"Portuguese\"]\n",
    "for i in range(len(a)):\n",
    "    print(\"\"\"INSERT INTO \"public\".\"Language\" (\"language_id\", \"language_name\") VALUES ('\"\"\"\n",
    "          +str(i+1)+\n",
    "          \"\"\"', '\"\"\"\n",
    "          +a[i]+\n",
    "          \"\"\"');\"\"\")\n",
    "    "
   ]
  },
  {
   "cell_type": "code",
   "execution_count": null,
   "metadata": {},
   "outputs": [],
   "source": [
    "INSERT INTO \"public\".\"InterestCategory\" (\"interest_category_id\", \"interest_category_name\") VALUES ('5', 'raesfsaafg');"
   ]
  },
  {
   "cell_type": "code",
   "execution_count": 16,
   "metadata": {},
   "outputs": [
    {
     "name": "stdout",
     "output_type": "stream",
     "text": [
      "INSERT INTO \"public\".\"InterestCategory\" (\"interest_category_id\", \"interest_category_name\") VALUES ('1', 'Computer Science');\n",
      "INSERT INTO \"public\".\"InterestCategory\" (\"interest_category_id\", \"interest_category_name\") VALUES ('2', 'Finance');\n",
      "INSERT INTO \"public\".\"InterestCategory\" (\"interest_category_id\", \"interest_category_name\") VALUES ('3', 'Biology');\n",
      "INSERT INTO \"public\".\"InterestCategory\" (\"interest_category_id\", \"interest_category_name\") VALUES ('4', 'History');\n",
      "INSERT INTO \"public\".\"InterestCategory\" (\"interest_category_id\", \"interest_category_name\") VALUES ('5', 'Art');\n",
      "INSERT INTO \"public\".\"InterestCategory\" (\"interest_category_id\", \"interest_category_name\") VALUES ('6', 'Economics');\n"
     ]
    }
   ],
   "source": [
    "a = [\"Computer Science\",\"Finance\",\"Biology\",\"History\",\"Art\",\"Economics\"]\n",
    "for i in range(len(a)):\n",
    "    print(\"\"\"INSERT INTO \"public\".\"InterestCategory\" (\"interest_category_id\", \"interest_category_name\") VALUES ('\"\"\"\n",
    "          +str(i+1)+\n",
    "          \"\"\"', '\"\"\"\n",
    "          +a[i]+\n",
    "          \"\"\"');\"\"\")\n",
    "    "
   ]
  },
  {
   "cell_type": "code",
   "execution_count": null,
   "metadata": {},
   "outputs": [],
   "source": [
    "INSERT INTO \"public\".\"Interest\" (\"interest_id\", \"interest_name\", \"category\") VALUES ('5', 'something', '1');"
   ]
  },
  {
   "cell_type": "code",
   "execution_count": 19,
   "metadata": {},
   "outputs": [
    {
     "name": "stdout",
     "output_type": "stream",
     "text": [
      "INSERT INTO \"public\".\"Interest\" (\"interest_id\", \"interest_name\", \"category\") VALUES ('1', 'Algorithms', '1');\n",
      "INSERT INTO \"public\".\"Interest\" (\"interest_id\", \"interest_name\", \"category\") VALUES ('2', 'Machine Learning', '1');\n",
      "INSERT INTO \"public\".\"Interest\" (\"interest_id\", \"interest_name\", \"category\") VALUES ('3', 'Stock Market', '2');\n",
      "INSERT INTO \"public\".\"Interest\" (\"interest_id\", \"interest_name\", \"category\") VALUES ('4', 'DNA', '3');\n",
      "INSERT INTO \"public\".\"Interest\" (\"interest_id\", \"interest_name\", \"category\") VALUES ('5', 'World War II', '4');\n",
      "INSERT INTO \"public\".\"Interest\" (\"interest_id\", \"interest_name\", \"category\") VALUES ('6', 'Black Friday', '6');\n"
     ]
    }
   ],
   "source": [
    "a = [\"Algorithms\",\"Machine Learning\",\"Stock Market\",\"DNA\",\"World War II\",\"Black Friday\"]\n",
    "b = [1,1,2,3,4,6,5]\n",
    "for i in range(len(a)):\n",
    "    print(\"\"\"INSERT INTO \"public\".\"Interest\" (\"interest_id\", \"interest_name\", \"category\") VALUES ('\"\"\"\n",
    "          +str(i+1)+\n",
    "          \"\"\"', '\"\"\"\n",
    "          +a[i]+\n",
    "          \"\"\"', '\"\"\"\n",
    "          +str(b[i])+\n",
    "          \"\"\"');\"\"\")\n",
    "    "
   ]
  },
  {
   "cell_type": "code",
   "execution_count": null,
   "metadata": {},
   "outputs": [],
   "source": [
    "INSERT INTO \"public\".\"Skill\" (\"skill_id\", \"skill_name\") VALUES ('5', 'fasdf');"
   ]
  },
  {
   "cell_type": "code",
   "execution_count": 20,
   "metadata": {},
   "outputs": [
    {
     "name": "stdout",
     "output_type": "stream",
     "text": [
      "INSERT INTO \"public\".\"Skill\" (\"skill_id\", \"skill_name\") VALUES ('1', 'Java');\n",
      "INSERT INTO \"public\".\"Skill\" (\"skill_id\", \"skill_name\") VALUES ('2', 'Python');\n",
      "INSERT INTO \"public\".\"Skill\" (\"skill_id\", \"skill_name\") VALUES ('3', 'C++');\n",
      "INSERT INTO \"public\".\"Skill\" (\"skill_id\", \"skill_name\") VALUES ('4', 'Javascript');\n",
      "INSERT INTO \"public\".\"Skill\" (\"skill_id\", \"skill_name\") VALUES ('5', 'SQL');\n",
      "INSERT INTO \"public\".\"Skill\" (\"skill_id\", \"skill_name\") VALUES ('6', 'HTML');\n",
      "INSERT INTO \"public\".\"Skill\" (\"skill_id\", \"skill_name\") VALUES ('7', 'Bloomberg Terminal');\n"
     ]
    }
   ],
   "source": [
    "a = [\"Java\",\"Python\",\"C++\",\"Javascript\",\"SQL\",\"HTML\",\"Bloomberg Terminal\"]\n",
    "for i in range(len(a)):\n",
    "    print(\"\"\"INSERT INTO \"public\".\"Skill\" (\"skill_id\", \"skill_name\") VALUES ('\"\"\"\n",
    "          +str(i+1)+\n",
    "          \"\"\"', '\"\"\"\n",
    "          +a[i]+\n",
    "          \"\"\"');\"\"\")\n",
    "    "
   ]
  },
  {
   "cell_type": "code",
   "execution_count": 21,
   "metadata": {},
   "outputs": [
    {
     "ename": "SyntaxError",
     "evalue": "invalid syntax (<ipython-input-21-90ce55352c34>, line 1)",
     "output_type": "error",
     "traceback": [
      "\u001b[0;36m  File \u001b[0;32m\"<ipython-input-21-90ce55352c34>\"\u001b[0;36m, line \u001b[0;32m1\u001b[0m\n\u001b[0;31m    INSERT INTO \"public\".\"Major\" (\"major_id\", \"major_name\") VALUES ('6', 'gasdafaf');\u001b[0m\n\u001b[0m              ^\u001b[0m\n\u001b[0;31mSyntaxError\u001b[0m\u001b[0;31m:\u001b[0m invalid syntax\n"
     ]
    }
   ],
   "source": [
    "INSERT INTO \"public\".\"Major\" (\"major_id\", \"major_name\") VALUES ('6', 'gasdafaf');"
   ]
  },
  {
   "cell_type": "code",
   "execution_count": 22,
   "metadata": {},
   "outputs": [
    {
     "name": "stdout",
     "output_type": "stream",
     "text": [
      "INSERT INTO \"public\".\"Major\" (\"major_id\", \"major_name\") VALUES ('1', 'Computer Science');\n",
      "INSERT INTO \"public\".\"Major\" (\"major_id\", \"major_name\") VALUES ('2', 'Operations Research and Information Engineering');\n",
      "INSERT INTO \"public\".\"Major\" (\"major_id\", \"major_name\") VALUES ('3', 'Mathematics');\n",
      "INSERT INTO \"public\".\"Major\" (\"major_id\", \"major_name\") VALUES ('4', 'Biology');\n",
      "INSERT INTO \"public\".\"Major\" (\"major_id\", \"major_name\") VALUES ('5', 'Economics');\n",
      "INSERT INTO \"public\".\"Major\" (\"major_id\", \"major_name\") VALUES ('6', 'History');\n"
     ]
    }
   ],
   "source": [
    "a = [\"Computer Science\",\"Operations Research and Information Engineering\",\"Mathematics\",\"Biology\",\"Economics\",\"History\"]\n",
    "for i in range(len(a)):\n",
    "    print(\"\"\"INSERT INTO \"public\".\"Major\" (\"major_id\", \"major_name\") VALUES ('\"\"\"\n",
    "          +str(i+1)+\n",
    "          \"\"\"', '\"\"\"\n",
    "          +a[i]+\n",
    "          \"\"\"');\"\"\")"
   ]
  },
  {
   "cell_type": "code",
   "execution_count": null,
   "metadata": {},
   "outputs": [],
   "source": [
    "INSERT INTO \"public\".\"Country\" (\"country_id\", \"name\") VALUES ('5', 'agfsdf');"
   ]
  },
  {
   "cell_type": "code",
   "execution_count": 23,
   "metadata": {},
   "outputs": [
    {
     "name": "stdout",
     "output_type": "stream",
     "text": [
      "INSERT INTO \"public\".\"Country\" (\"country_id\", \"name\") VALUES ('1', 'United States');\n",
      "INSERT INTO \"public\".\"Country\" (\"country_id\", \"name\") VALUES ('2', 'China');\n",
      "INSERT INTO \"public\".\"Country\" (\"country_id\", \"name\") VALUES ('3', 'India');\n",
      "INSERT INTO \"public\".\"Country\" (\"country_id\", \"name\") VALUES ('4', 'Canada');\n",
      "INSERT INTO \"public\".\"Country\" (\"country_id\", \"name\") VALUES ('5', 'Russia');\n",
      "INSERT INTO \"public\".\"Country\" (\"country_id\", \"name\") VALUES ('6', 'France');\n",
      "INSERT INTO \"public\".\"Country\" (\"country_id\", \"name\") VALUES ('7', 'Germany');\n"
     ]
    }
   ],
   "source": [
    "a = [\"United States\",\"China\",\"India\",\"Canada\",\"Russia\",\"France\",\"Germany\"]\n",
    "for i in range(len(a)):\n",
    "    print(\"\"\"INSERT INTO \"public\".\"Country\" (\"country_id\", \"name\") VALUES ('\"\"\"\n",
    "          +str(i+1)+\n",
    "          \"\"\"', '\"\"\"\n",
    "          +a[i]+\n",
    "          \"\"\"');\"\"\")"
   ]
  },
  {
   "cell_type": "code",
   "execution_count": null,
   "metadata": {},
   "outputs": [],
   "source": [
    "\n",
    "INSERT INTO \"public\".\"InternProfile\" (\"intern_id\", \"last_name\", \"first_name\", \"email\", \"country\", \"state\", \"city\", \"local_time_zone\", \n",
    "                                      \"college_education\", \"major_1\", \"minor_1\", \"self_intro\", \"resume_fpath\", \"symba_challenge_points\") VALUES ('2', 'Zhihao', 'Tang', 'zt222@cornell.edu', '1', 'NY', 'Ithaca', '-4', 'Cornell University', '1', '3', 'test', 'https://www.linkedin.com/in/zhihao-tang/', '0');\n",
    "\n",
    "INSERT INTO \"public\".\"InternProfile\" (\"intern_id\", \"last_name\", \"first_name\", \"email\", \"country\", \"state\", \"city\", \"local_time_zone\",\n",
    "                                      \"college_education\", \"major_1\", \"minor_1\", \"self_intro\", \"resume_fpath\", \"symba_challenge_points\") VALUES ('1', 'Zhihao', 'Tang', 'zt222@cornell.edu', '1', 'NY', 'Ithaca', '-4', 'Cornell University', '1', '3', 'test', 'https://www.linkedin.com/in/zhihao-tang/', '0');"
   ]
  },
  {
   "cell_type": "code",
   "execution_count": 41,
   "metadata": {},
   "outputs": [
    {
     "name": "stdout",
     "output_type": "stream",
     "text": [
      "INSERT INTO \"public\".\"InternProfile\" (\"intern_id\", \"last_name\", \"first_name\", \"email\", \"country\", \"state\", \"city\", \"local_time_zone\", \"college_education\", \"major_1\", \"minor_1\", \"self_intro\", \"resume_fpath\", \"symba_challenge_points\") VALUES ('1', 'Zhihao', 'Tang', 'zt222@cornell.edu', '1', 'NY', 'Ithaca', '-4', 'Cornell University', '1', '3', 'test', 'https://www.linkedin.com/in/zhihao-tang/', '0');\n"
     ]
    }
   ],
   "source": [
    "a = [\"1\",\"Zhihao\",\"Tang\",\"zt222@cornell.edu\",\"1\",\"NY\",\"Ithaca\",\"-4\",\"Cornell University\",\"1\",\"3\",\"test\",\"https://www.linkedin.com/in/zhihao-tang/\",\"0\"]\n",
    "b = [\"2\",\"Eric\",\"Ma\",\"eric@cornell.edu\",\"1\",\"NY\",\"Ithaca\",\"-4\",\"Cornell University\",\"1\",\"3\",\"test_for_eric\",\"https://www.linkedin.com/in/zhihao-tang/\",\"0\"]\n",
    "\n",
    "\n",
    "for i in range(2):\n",
    "    temp = \"(\\'\" + \"\\', \\'\".join(a)+\"\\');\"\n",
    "    #print(temp)\n",
    "    print(\"\"\"INSERT INTO \"public\".\"InternProfile\" (\"intern_id\", \"last_name\", \"first_name\", \"email\", \"country\", \"state\", \"city\", \"local_time_zone\", \"college_education\", \"major_1\", \"minor_1\", \"self_intro\", \"resume_fpath\", \"symba_challenge_points\") VALUES \"\"\"+temp)\n",
    "    "
   ]
  },
  {
   "cell_type": "code",
   "execution_count": null,
   "metadata": {},
   "outputs": [],
   "source": []
  }
 ],
 "metadata": {
  "kernelspec": {
   "display_name": "Python 3",
   "language": "python",
   "name": "python3"
  },
  "language_info": {
   "codemirror_mode": {
    "name": "ipython",
    "version": 3
   },
   "file_extension": ".py",
   "mimetype": "text/x-python",
   "name": "python",
   "nbconvert_exporter": "python",
   "pygments_lexer": "ipython3",
   "version": "3.6.6"
  }
 },
 "nbformat": 4,
 "nbformat_minor": 2
}
